{
 "cells": [
  {
   "cell_type": "code",
   "execution_count": null,
   "id": "6f9b4c3b",
   "metadata": {},
   "outputs": [],
   "source": [
    "import pandas as pd\n",
    "from sklearn.preprocessing import LabelEncoder,StandardScaler\n",
    "import seaborn as sns"
   ]
  },
  {
   "cell_type": "code",
   "execution_count": null,
   "id": "23f9a2b4",
   "metadata": {},
   "outputs": [],
   "source": [
    "from pyspark.sql import SparkSession\n",
    "\n",
    "# Initialize Spark session\n",
    "spark = SparkSession.builder.appName(\"MySparkApp\").getOrCreate()\n",
    "spark_df = spark.read.format(\"csv\").option(\"header\", \"true\").option(\"inferSchema\", \"true\")\n",
    ".load(\"hdfs://localhost:9000/bigdata/marketing_strat.csv\")\n",
    "spark_df.show()\n",
    "\n",
    "#Convert to pandas df\n",
    "df = spark_df.toPandas()"
   ]
  },
  {
   "cell_type": "code",
   "execution_count": null,
   "id": "f78172c0",
   "metadata": {
    "scrolled": true
   },
   "outputs": [],
   "source": [
    "df"
   ]
  },
  {
   "cell_type": "code",
   "execution_count": null,
   "id": "8f1c496e",
   "metadata": {
    "scrolled": false
   },
   "outputs": [],
   "source": [
    "df.head()"
   ]
  },
  {
   "cell_type": "code",
   "execution_count": null,
   "id": "4ecb39b6",
   "metadata": {},
   "outputs": [],
   "source": [
    "df.shape"
   ]
  },
  {
   "cell_type": "code",
   "execution_count": null,
   "id": "cd4d2d52",
   "metadata": {},
   "outputs": [],
   "source": [
    "df.columns"
   ]
  },
  {
   "cell_type": "code",
   "execution_count": null,
   "id": "07034b25",
   "metadata": {},
   "outputs": [],
   "source": [
    "df.size"
   ]
  },
  {
   "cell_type": "code",
   "execution_count": null,
   "id": "a360231b",
   "metadata": {},
   "outputs": [],
   "source": [
    "df.info()"
   ]
  },
  {
   "cell_type": "code",
   "execution_count": null,
   "id": "3539a60d",
   "metadata": {
    "scrolled": true
   },
   "outputs": [],
   "source": [
    "df.isna().sum()"
   ]
  },
  {
   "cell_type": "code",
   "execution_count": null,
   "id": "6af2657d",
   "metadata": {},
   "outputs": [],
   "source": [
    "df=df.dropna()"
   ]
  },
  {
   "cell_type": "code",
   "execution_count": null,
   "id": "993ed141",
   "metadata": {
    "scrolled": true
   },
   "outputs": [],
   "source": [
    "df.rename(columns={\"Response\": \"AcceptedCmp6\"}, inplace=True)"
   ]
  },
  {
   "cell_type": "code",
   "execution_count": null,
   "id": "e95a548b",
   "metadata": {
    "scrolled": true
   },
   "outputs": [],
   "source": [
    "df.info()"
   ]
  },
  {
   "cell_type": "markdown",
   "id": "9a409f3e",
   "metadata": {},
   "source": [
    "# Exploratory Analysis"
   ]
  },
  {
   "cell_type": "code",
   "execution_count": null,
   "id": "2699ef53",
   "metadata": {},
   "outputs": [],
   "source": [
    "df['Age'] = 2024-df['Year_Birth']"
   ]
  },
  {
   "cell_type": "code",
   "execution_count": null,
   "id": "ac8927d9",
   "metadata": {},
   "outputs": [],
   "source": [
    "x = df.drop(['Z_CostContact','Z_Revenue'],axis = 1)"
   ]
  },
  {
   "cell_type": "code",
   "execution_count": null,
   "id": "f5a87d73",
   "metadata": {},
   "outputs": [],
   "source": [
    "df[\"Spent\"] = df[\"MntWines\"]+ df[\"MntFruits\"]+ df[\"MntMeatProducts\"]+ df[\"MntFishProducts\"]+ df[\"MntSweetProducts\"]+ df[\"MntGoldProds\"]"
   ]
  },
  {
   "cell_type": "code",
   "execution_count": null,
   "id": "0a3fc8dd",
   "metadata": {},
   "outputs": [],
   "source": [
    "import matplotlib\n",
    "import matplotlib.pyplot as plt\n",
    "import seaborn as sns\n",
    "\n",
    "plt.figure(figsize=(16,9))\n",
    "ax = sns.heatmap(x.corr(numeric_only=True),annot = True,cmap = 'viridis')\n",
    "plt.show()"
   ]
  },
  {
   "cell_type": "markdown",
   "id": "6e4e42a4",
   "metadata": {},
   "source": [
    "# Data Visualization"
   ]
  },
  {
   "cell_type": "code",
   "execution_count": null,
   "id": "be982ee8",
   "metadata": {},
   "outputs": [],
   "source": [
    "sns.pairplot(df[['Income','Age','Recency','Spent','Marital_Status']])"
   ]
  },
  {
   "cell_type": "code",
   "execution_count": null,
   "id": "e1133b78",
   "metadata": {},
   "outputs": [],
   "source": [
    "sns.countplot(x = 'Education' , data = df)\n",
    "plt.show()"
   ]
  },
  {
   "cell_type": "code",
   "execution_count": null,
   "id": "94f9b880",
   "metadata": {},
   "outputs": [],
   "source": [
    "sns.countplot( x = 'Marital_Status',data = df)\n",
    "plt.show()"
   ]
  },
  {
   "cell_type": "code",
   "execution_count": null,
   "id": "717758d4",
   "metadata": {},
   "outputs": [],
   "source": [
    "obj = ['Education','Marital_Status']"
   ]
  },
  {
   "cell_type": "code",
   "execution_count": null,
   "id": "7bdb340b",
   "metadata": {},
   "outputs": [],
   "source": [
    "for i in obj:\n",
    "    data=df.copy()\n",
    "    data.groupby(i)['Age'].mean().plot.bar()\n",
    "    plt.xlabel(i)\n",
    "    plt.ylabel('Age')\n",
    "    plt.title(i)\n",
    "    plt.show()"
   ]
  },
  {
   "cell_type": "code",
   "execution_count": null,
   "id": "b1a09639",
   "metadata": {},
   "outputs": [],
   "source": [
    "df_copy = df.copy()"
   ]
  },
  {
   "cell_type": "code",
   "execution_count": null,
   "id": "2d2cfcd8",
   "metadata": {},
   "outputs": [],
   "source": [
    "for i in range(len(obj)):\n",
    "    x='Marital_Status'\n",
    "    for j in range(1):\n",
    "        if obj[i] != x:\n",
    "            sns.barplot(x= x,y='Age',hue=obj[i],data=df_copy)\n",
    "            sns.set(rc={'figure.figsize':(11,12)})\n",
    "            plt.show()"
   ]
  },
  {
   "cell_type": "code",
   "execution_count": null,
   "id": "bcfec3f1",
   "metadata": {},
   "outputs": [],
   "source": [
    "for i in range(len(obj)):\n",
    "    x='Marital_Status'\n",
    "    for j in range(1):\n",
    "        if obj[i] != x:\n",
    "            sns.barplot(x= x,y='Income',hue=obj[i],data=df_copy)\n",
    "            sns.set(rc={'figure.figsize':(11,12)})\n",
    "            plt.show()"
   ]
  },
  {
   "cell_type": "code",
   "execution_count": null,
   "id": "68226293",
   "metadata": {},
   "outputs": [],
   "source": [
    "y = df.drop(['Education','Marital_Status','Dt_Customer'],axis = 1)\n",
    "for i in y.columns:\n",
    "    sns.boxplot(x = i, data = y,color = 'yellowgreen')   \n",
    "    plt.xlabel(i)\n",
    "    plt.show()"
   ]
  },
  {
   "cell_type": "code",
   "execution_count": null,
   "id": "153b3bf6",
   "metadata": {},
   "outputs": [],
   "source": [
    "df['Accepted'] = df['AcceptedCmp1'] + df['AcceptedCmp2'] + df['AcceptedCmp3'] + df['AcceptedCmp4'] + df['AcceptedCmp5'] + df['AcceptedCmp6']"
   ]
  },
  {
   "cell_type": "code",
   "execution_count": null,
   "id": "d1ba9d29",
   "metadata": {
    "scrolled": false
   },
   "outputs": [],
   "source": [
    "df['Education'].value_counts()"
   ]
  },
  {
   "cell_type": "code",
   "execution_count": null,
   "id": "17b869f2",
   "metadata": {
    "scrolled": true
   },
   "outputs": [],
   "source": [
    "df[\"Education\"]=df[\"Education\"].replace({\"2n Cycle\":\"Undergraduate\", \"Graduation\":\"Graduate\", \"Master\":\"Postgraduate\", \"PhD\":\"Postgraduate\"})"
   ]
  },
  {
   "cell_type": "code",
   "execution_count": null,
   "id": "9394d02c",
   "metadata": {
    "scrolled": true
   },
   "outputs": [],
   "source": [
    "df['Marital_Status'].value_counts()"
   ]
  },
  {
   "cell_type": "code",
   "execution_count": null,
   "id": "b8393401",
   "metadata": {},
   "outputs": [],
   "source": [
    "df['Num_Children'] = df['Kidhome'] + df['Teenhome']"
   ]
  },
  {
   "cell_type": "code",
   "execution_count": null,
   "id": "80d2ac9f",
   "metadata": {},
   "outputs": [],
   "source": [
    "df[\"Marital_Status\"]=df[\"Marital_Status\"].replace({\"Married\":\"Partner\", \"Together\":\"Partner\", \"Absurd\":\"Single\", \"Widow\":\"Single\", \"YOLO\":\"Single\", \"Divorced\":\"Single\", \"Single\":\"Single\",\"Alone\":\"Single\"})"
   ]
  },
  {
   "cell_type": "code",
   "execution_count": null,
   "id": "179e7937",
   "metadata": {},
   "outputs": [],
   "source": [
    "def categorize_age(age):\n",
    "    if age <= 59:\n",
    "        return 'Adults'\n",
    "    else:\n",
    "        return 'Seniors'\n",
    "# Apply the function to create a new 'Age Group' column\n",
    "df['Age_Group'] = df['Age'].apply(categorize_age)"
   ]
  },
  {
   "cell_type": "code",
   "execution_count": null,
   "id": "9f29619c",
   "metadata": {},
   "outputs": [],
   "source": [
    "ndf = df"
   ]
  },
  {
   "cell_type": "code",
   "execution_count": null,
   "id": "3202977d",
   "metadata": {},
   "outputs": [],
   "source": [
    "mStratCols = ['Dt_Customer','AcceptedCmp1','AcceptedCmp2','AcceptedCmp3', 'AcceptedCmp4', 'AcceptedCmp5', 'Complain', 'AcceptedCmp6','ID','Kidhome','Teenhome','Age','Year_Birth']"
   ]
  },
  {
   "cell_type": "code",
   "execution_count": null,
   "id": "2f557538",
   "metadata": {},
   "outputs": [],
   "source": [
    "ndf = df.drop(mStratCols,axis =1)"
   ]
  },
  {
   "cell_type": "code",
   "execution_count": null,
   "id": "ed5e3b74",
   "metadata": {
    "scrolled": true
   },
   "outputs": [],
   "source": [
    "ndf.info()"
   ]
  },
  {
   "cell_type": "code",
   "execution_count": null,
   "id": "d0d2d681",
   "metadata": {
    "scrolled": true
   },
   "outputs": [],
   "source": [
    "ndf.info()"
   ]
  },
  {
   "cell_type": "code",
   "execution_count": null,
   "id": "5ae03386",
   "metadata": {
    "scrolled": false
   },
   "outputs": [],
   "source": [
    "ndf.info()"
   ]
  },
  {
   "cell_type": "code",
   "execution_count": null,
   "id": "eca72b2c",
   "metadata": {},
   "outputs": [],
   "source": [
    "ndf['Age_Group'].value_counts()"
   ]
  },
  {
   "cell_type": "code",
   "execution_count": null,
   "id": "b54fe97f",
   "metadata": {
    "scrolled": false
   },
   "outputs": [],
   "source": [
    "ndf.info()"
   ]
  },
  {
   "cell_type": "code",
   "execution_count": null,
   "id": "1cb0f0e8",
   "metadata": {},
   "outputs": [],
   "source": [
    "#Total spendings on various items\n",
    "ndf[\"Spent\"] = ndf[\"MntWines\"]+ ndf[\"MntFruits\"]+ ndf[\"MntMeatProducts\"]+ ndf[\"MntFishProducts\"]+ ndf[\"MntSweetProducts\"]+ ndf[\"MntGoldProds\"]"
   ]
  },
  {
   "cell_type": "code",
   "execution_count": null,
   "id": "6082e0c9",
   "metadata": {},
   "outputs": [],
   "source": [
    "ndf = ndf.dropna()"
   ]
  },
  {
   "cell_type": "code",
   "execution_count": null,
   "id": "434091e3",
   "metadata": {},
   "outputs": [],
   "source": [
    "from yellowbrick.cluster import KElbowVisualizer\n",
    "from sklearn.cluster import KMeans\n",
    "from sklearn.decomposition import PCA\n",
    "from sklearn.preprocessing import OneHotEncoder\n",
    "import matplotlib.pyplot as plt"
   ]
  },
  {
   "cell_type": "markdown",
   "id": "3baa80b4",
   "metadata": {},
   "source": [
    "# Encoding"
   ]
  },
  {
   "cell_type": "code",
   "execution_count": null,
   "id": "a6c8f4e5",
   "metadata": {},
   "outputs": [],
   "source": [
    "##AGE\n",
    "# Create a mapping from category to integer\n",
    "age_mapping = {'Adults': 1, 'Seniors': 2}\n",
    "\n",
    "# Apply integer encoding to the 'Category' column\n",
    "ndf['Age_Group'] = ndf['Age_Group'].map(age_mapping)"
   ]
  },
  {
   "cell_type": "code",
   "execution_count": null,
   "id": "a9fccd70",
   "metadata": {},
   "outputs": [],
   "source": [
    "##Education\n",
    "# Create a mapping from category to integer\n",
    "edu_mapping = {'Basic': 1, 'Graduate': 2,'Undergraduate': 3, 'Postgraduate': 4 }\n",
    "\n",
    "# Apply integer encoding to the 'Category' column\n",
    "ndf['Education'] = ndf['Education'].map(edu_mapping)"
   ]
  },
  {
   "cell_type": "code",
   "execution_count": null,
   "id": "09e8ba81",
   "metadata": {},
   "outputs": [],
   "source": [
    "##AGE\n",
    "# Create a mapping from category to integer\n",
    "marital_mapping = {'Partner': 1, 'Single': 2}\n",
    "\n",
    "# Apply integer encoding to the 'Category' column\n",
    "ndf['Marital_Status'] = ndf['Marital_Status'].map(marital_mapping)"
   ]
  },
  {
   "cell_type": "markdown",
   "id": "c3993a92",
   "metadata": {},
   "source": [
    "# Feature Scaling"
   ]
  },
  {
   "cell_type": "code",
   "execution_count": null,
   "id": "c4c68de5",
   "metadata": {
    "scrolled": true
   },
   "outputs": [],
   "source": [
    "scaler = StandardScaler()\n",
    "scaler.fit(ndf)\n",
    "scaled_ndf = pd.DataFrame(scaler.transform(ndf),columns= ndf.columns )"
   ]
  },
  {
   "cell_type": "markdown",
   "id": "2c9f5431",
   "metadata": {},
   "source": [
    "# Dimensionality reduction"
   ]
  },
  {
   "cell_type": "code",
   "execution_count": null,
   "id": "d0a2a2c0",
   "metadata": {
    "scrolled": true
   },
   "outputs": [],
   "source": [
    "pca = PCA(n_components=3)\n",
    "pca.fit(scaled_ndf)\n",
    "PCA_ndf = pd.DataFrame(pca.transform(scaled_ndf), columns=([\"col1\",\"col2\", \"col3\"]))\n",
    "PCA_ndf.describe().T"
   ]
  },
  {
   "cell_type": "code",
   "execution_count": null,
   "id": "27c8ee6d",
   "metadata": {},
   "outputs": [],
   "source": [
    "x =PCA_ndf[\"col1\"]\n",
    "y =PCA_ndf[\"col2\"]\n",
    "z =PCA_ndf[\"col3\"]"
   ]
  },
  {
   "cell_type": "code",
   "execution_count": null,
   "id": "7a40febd",
   "metadata": {
    "scrolled": true
   },
   "outputs": [],
   "source": [
    "print('Optimal number of cluster with Elbow Method:')\n",
    "Elbow_M = KElbowVisualizer(KMeans(), k=10)\n",
    "Elbow_M.fit(PCA_ndf)\n",
    "Elbow_M.show()"
   ]
  },
  {
   "cell_type": "markdown",
   "id": "e57095e8",
   "metadata": {},
   "source": [
    "# Gaussian Mixture Model"
   ]
  },
  {
   "cell_type": "code",
   "execution_count": null,
   "id": "1d0266bc",
   "metadata": {},
   "outputs": [],
   "source": [
    "import random"
   ]
  },
  {
   "cell_type": "code",
   "execution_count": null,
   "id": "036fbc19",
   "metadata": {},
   "outputs": [],
   "source": [
    "random.seed(1234)\n",
    "from sklearn.mixture import GaussianMixture\n",
    "#Initiating the GaussianMixture Clustering model \n",
    "GMM = GaussianMixture(n_components=4, random_state=10)\n",
    "\n",
    "GP_df= GMM.fit_predict(PCA_ndf)\n",
    "# fit model and predict clusters\n",
    "ndf[\"Clusters\"]= GP_df\n",
    "df[\"Clusters\"]=GP_df"
   ]
  },
  {
   "cell_type": "code",
   "execution_count": null,
   "id": "f2b20380",
   "metadata": {
    "scrolled": false
   },
   "outputs": [],
   "source": [
    "#Plotting the clusters\n",
    "fig = plt.figure(figsize=(10,8))\n",
    "ax = plt.subplot(111, projection='3d', label=\"bla\")\n",
    "ax.scatter(x, y, z, s=40, c=df[\"Clusters\"], marker='o', cmap = 'viridis')\n",
    "ax.set_title(\"The Plot Of The Clusters\")\n",
    "plt.show()"
   ]
  },
  {
   "cell_type": "code",
   "execution_count": null,
   "id": "de682a57",
   "metadata": {
    "scrolled": true
   },
   "outputs": [],
   "source": [
    "pal = [\"#feda75\",\"#fa7e1e\", \"#d62976\",\"#962fbf\"]\n",
    "pl = sns.countplot(x=df[\"Clusters\"], palette= pal)\n",
    "pl.set_title(\"Distribution Of The Clusters\")\n",
    "plt.show()"
   ]
  },
  {
   "cell_type": "code",
   "execution_count": null,
   "id": "45b9537e",
   "metadata": {
    "scrolled": true
   },
   "outputs": [],
   "source": [
    "pl = sns.scatterplot(data = ndf,x=ndf[\"Spent\"], y=ndf[\"Income\"],hue=ndf[\"Clusters\"],palette = pal)\n",
    "pl.set_title(\"Cluster's Profile Based On Income And Spending\")\n",
    "plt.legend()\n",
    "plt.show()"
   ]
  },
  {
   "cell_type": "code",
   "execution_count": null,
   "id": "b882b87c",
   "metadata": {
    "scrolled": false
   },
   "outputs": [],
   "source": [
    "plt.figure()\n",
    "pl=sns.swarmplot(x=df[\"Clusters\"], y=df[\"Spent\"], color= '#CBEDDD', alpha=0.5 )\n",
    "pl=sns.boxenplot(x=df[\"Clusters\"], y=df[\"Spent\"])\n",
    "plt.show()"
   ]
  },
  {
   "cell_type": "code",
   "execution_count": null,
   "id": "a24b0621",
   "metadata": {},
   "outputs": [],
   "source": [
    "plt.figure(figsize=(10,5))\n",
    "plt.title(f'Income')\n",
    "axes = sns.boxplot(data=df, x='Clusters', y='Income', palette=sns.color_palette(\"Set1\"), showfliers=False)\n",
    "plt.show()"
   ]
  },
  {
   "cell_type": "code",
   "execution_count": null,
   "id": "6a6a8ba8",
   "metadata": {
    "scrolled": false
   },
   "outputs": [],
   "source": [
    "import matplotlib.pyplot as plt\n",
    "import seaborn as sns\n",
    "\n",
    "# Assuming you have df, df[\"Clusters\"], pal, and other necessary variables defined\n",
    "\n",
    "# Create subplots with 1 row and 2 columns\n",
    "fig, axes = plt.subplots(3, 2, figsize=(12, 16))\n",
    "\n",
    "# List of campaign columns\n",
    "campaign_columns = ['AcceptedCmp1', 'AcceptedCmp2', 'AcceptedCmp3', 'AcceptedCmp4', 'AcceptedCmp5', 'AcceptedCmp6']\n",
    "axes = axes.flatten()\n",
    "\n",
    "# Loop through each campaign column and create a count plot for 'AcceptedCmp' == 0\n",
    "for i, campaign_col in enumerate(campaign_columns):\n",
    "    subset_df = df[df[campaign_col] == 1]\n",
    "    ax = sns.countplot(x=campaign_col, hue=df[\"Clusters\"], palette=pal, data=subset_df, ax=axes[i])\n",
    "    ax.set_title(f\"Count Of Promotion Accepted - Campaign {i+1}\")\n",
    "    ax.set_xlabel(\"Number Of Total Accepted Promotions\")\n",
    "\n",
    "# Adjust layout for better spacing\n",
    "plt.tight_layout()\n",
    "\n",
    "# Show the combined plot\n",
    "plt.show()"
   ]
  },
  {
   "cell_type": "code",
   "execution_count": null,
   "id": "e19c2595",
   "metadata": {
    "scrolled": true
   },
   "outputs": [],
   "source": [
    "#Plotting the number of deals purchased\n",
    "plt.figure()\n",
    "pl=sns.boxenplot(y=df[\"NumDealsPurchases\"],x=df[\"Clusters\"], palette= pal)\n",
    "pl.set_title(\"Number of Deals Purchased\")\n",
    "plt.show()"
   ]
  },
  {
   "cell_type": "code",
   "execution_count": null,
   "id": "fc53361a",
   "metadata": {
    "scrolled": false
   },
   "outputs": [],
   "source": [
    "plt.figure(figsize=(16,5))\n",
    "plt.title(f'Education Obtained')\n",
    "sns.countplot(data=df, x='Education', hue='Clusters')\n",
    "plt.show()"
   ]
  },
  {
   "cell_type": "code",
   "execution_count": null,
   "id": "23b3222d",
   "metadata": {},
   "outputs": [],
   "source": [
    "purchases = df['NumWebPurchases']+df['NumCatalogPurchases']+df['NumStorePurchases']"
   ]
  },
  {
   "cell_type": "code",
   "execution_count": null,
   "id": "389922cd",
   "metadata": {
    "scrolled": false
   },
   "outputs": [],
   "source": [
    "fig, axes = plt.subplots(2, 2, figsize=(10, 10))   \n",
    "k = 0\n",
    "\n",
    "for i in range(0, 2):\n",
    "    for j in range(0, 2):\n",
    "        \n",
    "        cluster_data = df.query(f'Clusters == {k}')\n",
    "        \n",
    "        if not cluster_data.empty:\n",
    "            num = cluster_data.filter(regex='Num[^Deals|Total].+Purchases').sum(axis=0)\n",
    "            sizes = dict(num)\n",
    "            labels = list(sizes.keys())  # Adjust labels based on the data\n",
    "            axes[i, j].set_title(f\"Clusters {k}\")\n",
    "            axes[i, j].pie(sizes.values(), labels=labels, autopct=\"%.1f%%\", pctdistance=0.85)\n",
    "            k -= -1\n",
    "\n",
    "fig.suptitle('Shopping Source Proportions')\n",
    "fig.legend(title=\"Shopping Source\", labels=labels, bbox_to_anchor=(1, 1)) \n",
    "plt.show()"
   ]
  },
  {
   "cell_type": "code",
   "execution_count": null,
   "id": "cb4516a7",
   "metadata": {
    "scrolled": true
   },
   "outputs": [],
   "source": [
    "plt.figure(figsize=(16,5))\n",
    "plt.title(f'Age Group Obtained')\n",
    "sns.countplot(data=df, x='Age_Group', hue='Clusters')\n",
    "plt.show()"
   ]
  },
  {
   "cell_type": "code",
   "execution_count": null,
   "id": "d80a6597",
   "metadata": {},
   "outputs": [],
   "source": [
    "Personal = [\"Num_Children\" , \"Education\"]\n",
    "\n",
    "for i in Personal:\n",
    "    plt.figure()\n",
    "    sns.jointplot(x=ndf[i], y=ndf[\"Spent\"], hue=ndf[\"Clusters\"], kind= \"kde\", palette = pal)\n",
    "    plt.show()"
   ]
  },
  {
   "cell_type": "code",
   "execution_count": null,
   "id": "e1b4925c",
   "metadata": {
    "scrolled": false
   },
   "outputs": [],
   "source": [
    "plt.figure(figsize=(16,5))\n",
    "plt.title(f'Marital Status Obtained')\n",
    "sns.countplot(data=df, x='Marital_Status', hue='Clusters')\n",
    "plt.show()"
   ]
  },
  {
   "cell_type": "code",
   "execution_count": null,
   "id": "4911004c",
   "metadata": {},
   "outputs": [],
   "source": [
    "plt.figure(figsize=(16,5))\n",
    "plt.title(f'Number of Children Obtained')\n",
    "sns.countplot(data=df, x='Num_Children', hue='Clusters')\n",
    "plt.show()"
   ]
  }
 ],
 "metadata": {
  "kernelspec": {
   "display_name": "Python 3 (ipykernel)",
   "language": "python",
   "name": "python3"
  },
  "language_info": {
   "codemirror_mode": {
    "name": "ipython",
    "version": 3
   },
   "file_extension": ".py",
   "mimetype": "text/x-python",
   "name": "python",
   "nbconvert_exporter": "python",
   "pygments_lexer": "ipython3",
   "version": "3.11.5"
  }
 },
 "nbformat": 4,
 "nbformat_minor": 5
}
